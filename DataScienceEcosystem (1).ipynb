{
  "metadata": {
    "kernelspec": {
      "name": "xpython",
      "display_name": "Python 3.13 (XPython)",
      "language": "python"
    },
    "language_info": {
      "file_extension": ".py",
      "mimetype": "text/x-python",
      "name": "python",
      "version": "3.13.1"
    }
  },
  "nbformat_minor": 5,
  "nbformat": 4,
  "cells": [
    {
      "id": "afe78fe2-ed0d-4b07-866e-81664497789c",
      "cell_type": "markdown",
      "source": "# Data Science Tools and Ecosystem",
      "metadata": {}
    },
    {
      "id": "bc8217d3-f4cb-4b45-816b-18131bd0c4c0",
      "cell_type": "markdown",
      "source": "In this notebook, Data Science Tools and Ecosystem are summarized.",
      "metadata": {}
    },
    {
      "id": "00fa3598-a7f1-468d-a1cb-9e1770073ce9",
      "cell_type": "markdown",
      "source": "**Objectives:**\n\n- List popular languages for Data Science\n- Identify commonly used Data Science libraries\n- Explore basic arithmetic expressions in Python\n- Create tables and lists using Markdown\n- Convert units using Python code\n",
      "metadata": {}
    },
    {
      "id": "9c4212fd-4fea-4633-b474-2848ebac53d5",
      "cell_type": "markdown",
      "source": "Some of the popular languages that Data Scientists use are:\n\n1. Python  \n2. R  \n3. SQL\n",
      "metadata": {}
    },
    {
      "id": "20ec44b2-b752-4d68-a458-847a289c3095",
      "cell_type": "markdown",
      "source": "Some of the commonly used libraries used by Data Scientists include:\n\n1. Pandas  \n2. NumPy  \n3. Matplotlib\n",
      "metadata": {}
    },
    {
      "id": "3db78ef6-e9e6-4dc8-82b6-08c66fadfb79",
      "cell_type": "markdown",
      "source": "| Data Science Tools       |\n|--------------------------|\n| Jupyter Notebook         |\n| RStudio                  |\n| Apache Zeppelin          |\n",
      "metadata": {}
    },
    {
      "id": "2592bce8-5c5a-4cf2-b3b9-1427a6714eb8",
      "cell_type": "markdown",
      "source": "### Below are a few examples of evaluating arithmetic expressions in Python.\n",
      "metadata": {}
    },
    {
      "id": "f8bc80ec-7f7a-4eed-817d-117510f4571a",
      "cell_type": "code",
      "source": "# Esta es una expresión aritmética simple que multiplica 3 por 4 y luego le suma 5\n(3 * 4) + 5\n",
      "metadata": {
        "trusted": true
      },
      "outputs": [
        {
          "execution_count": 2,
          "output_type": "execute_result",
          "data": {
            "text/plain": "17"
          },
          "metadata": {}
        }
      ],
      "execution_count": 2
    },
    {
      "id": "19d3df80-2edb-4678-940b-7716912e7958",
      "cell_type": "code",
      "source": "# Esto convertirá 200 minutos en horas dividiendo entre 60\n200 / 60\n",
      "metadata": {
        "trusted": true
      },
      "outputs": [
        {
          "execution_count": 3,
          "output_type": "execute_result",
          "data": {
            "text/plain": "3.3333333333333335"
          },
          "metadata": {}
        }
      ],
      "execution_count": 3
    },
    {
      "id": "a2a26fb6-248d-4a42-b3d7-8f49417a0a17",
      "cell_type": "markdown",
      "source": "## Author\n\nJUAN RIVERA ARANDA",
      "metadata": {}
    },
    {
      "id": "d60ee6e4-ff69-4753-a314-9cd8fd90e5ad",
      "cell_type": "code",
      "source": "",
      "metadata": {
        "trusted": true
      },
      "outputs": [],
      "execution_count": null
    }
  ]
}